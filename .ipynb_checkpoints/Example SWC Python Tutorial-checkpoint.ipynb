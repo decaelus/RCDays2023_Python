{
 "cells": [
  {
   "cell_type": "code",
   "execution_count": null,
   "id": "c3c4417c",
   "metadata": {},
   "outputs": [],
   "source": [
    "3 + 5 * 4"
   ]
  },
  {
   "cell_type": "code",
   "execution_count": 22,
   "id": "825dbe08",
   "metadata": {},
   "outputs": [],
   "source": [
    "3 + 5 * 4;"
   ]
  },
  {
   "cell_type": "code",
   "execution_count": 20,
   "id": "4a187dee",
   "metadata": {},
   "outputs": [],
   "source": [
    "weight_kg = 60\n",
    "print(weight_kg, type(weight_kg))"
   ]
  },
  {
   "cell_type": "code",
   "execution_count": 5,
   "id": "b8f92238",
   "metadata": {},
   "outputs": [
    {
     "name": "stdout",
     "output_type": "stream",
     "text": [
      "60\n"
     ]
    }
   ],
   "source": [
    "print(weight_kg)"
   ]
  },
  {
   "cell_type": "code",
   "execution_count": 6,
   "id": "99c40aea",
   "metadata": {},
   "outputs": [],
   "source": [
    "WEIGHT_KG = 100"
   ]
  },
  {
   "cell_type": "code",
   "execution_count": 7,
   "id": "27ff1dd3",
   "metadata": {},
   "outputs": [
    {
     "name": "stdout",
     "output_type": "stream",
     "text": [
      "60 100\n"
     ]
    }
   ],
   "source": [
    "print(weight_kg, WEIGHT_KG)"
   ]
  },
  {
   "cell_type": "code",
   "execution_count": 12,
   "id": "fad3d278",
   "metadata": {},
   "outputs": [
    {
     "name": "stdout",
     "output_type": "stream",
     "text": [
      "60.3 <class 'float'>\n"
     ]
    }
   ],
   "source": [
    "weight_kg = 60.3\n",
    "print(weight_kg, type(weight_kg))"
   ]
  },
  {
   "cell_type": "code",
   "execution_count": 13,
   "id": "09c28faf",
   "metadata": {},
   "outputs": [
    {
     "name": "stdout",
     "output_type": "stream",
     "text": [
      "60.3 <class 'float'>\n"
     ]
    }
   ],
   "source": [
    "print(weight_kg, type(weight_kg))"
   ]
  },
  {
   "cell_type": "code",
   "execution_count": 14,
   "id": "d76d86a4",
   "metadata": {},
   "outputs": [
    {
     "name": "stdout",
     "output_type": "stream",
     "text": [
      "001 <class 'str'>\n"
     ]
    }
   ],
   "source": [
    "patient_id = '001'\n",
    "print(patient_id, type(patient_id))"
   ]
  },
  {
   "cell_type": "code",
   "execution_count": 15,
   "id": "db7056eb",
   "metadata": {},
   "outputs": [
    {
     "name": "stdout",
     "output_type": "stream",
     "text": [
      "132.66 <class 'float'>\n"
     ]
    }
   ],
   "source": [
    "weight_lb = 2.2 * weight_kg\n",
    "print(weight_lb, type(weight_lb))"
   ]
  },
  {
   "cell_type": "code",
   "execution_count": 16,
   "id": "ba1902e6",
   "metadata": {},
   "outputs": [
    {
     "name": "stdout",
     "output_type": "stream",
     "text": [
      "inflam_001\n"
     ]
    }
   ],
   "source": [
    "patient_id = 'inflam_' + patient_id\n",
    "print(patient_id)"
   ]
  },
  {
   "cell_type": "code",
   "execution_count": 17,
   "id": "e653d4c6",
   "metadata": {},
   "outputs": [
    {
     "name": "stdout",
     "output_type": "stream",
     "text": [
      "inflam_001 weight in kilograms: 60.3\n"
     ]
    }
   ],
   "source": [
    "print(patient_id, 'weight in kilograms:', weight_kg)"
   ]
  },
  {
   "cell_type": "code",
   "execution_count": 18,
   "id": "f646f638",
   "metadata": {},
   "outputs": [
    {
     "name": "stdout",
     "output_type": "stream",
     "text": [
      "weight in pounds: 132.66\n"
     ]
    }
   ],
   "source": [
    "print('weight in pounds:', 2.2 * weight_kg)"
   ]
  },
  {
   "cell_type": "code",
   "execution_count": 19,
   "id": "840018e5",
   "metadata": {},
   "outputs": [],
   "source": [
    "# There are 2.2 pounds per kilogram"
   ]
  },
  {
   "cell_type": "markdown",
   "id": "475e5dcc",
   "metadata": {},
   "source": [
    "This cell is text and not code. You can include long comments, equations, URLs, etc. within the body of a notebook.\n",
    "\n",
    "Here is a LaTeX equation:\n",
    "$$\n",
    "\\hat{H} \\Psi = E \\Psi.\n",
    "$$"
   ]
  },
  {
   "cell_type": "code",
   "execution_count": null,
   "id": "3f5c70bc",
   "metadata": {},
   "outputs": [],
   "source": []
  }
 ],
 "metadata": {
  "kernelspec": {
   "display_name": "Python 3 (ipykernel)",
   "language": "python",
   "name": "python3"
  },
  "language_info": {
   "codemirror_mode": {
    "name": "ipython",
    "version": 3
   },
   "file_extension": ".py",
   "mimetype": "text/x-python",
   "name": "python",
   "nbconvert_exporter": "python",
   "pygments_lexer": "ipython3",
   "version": "3.9.12"
  }
 },
 "nbformat": 4,
 "nbformat_minor": 5
}
